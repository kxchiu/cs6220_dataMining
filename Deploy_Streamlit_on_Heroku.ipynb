{
 "cells": [
  {
   "cell_type": "markdown",
   "metadata": {},
   "source": [
    "In this Jupyter Notebook, I'll be covering the steps to deploy your Streamlit services onto Heroku.\n",
    "\n",
    "The command line terminal I'm using is Anaconda Powershell Prompt, although other commond line tools should work as well."
   ]
  },
  {
   "cell_type": "markdown",
   "metadata": {},
   "source": [
    "---\n",
    "# Prepare Your Heroku Account and Command Line Interface (CLI)\n",
    "Before we start the deployment, there are a few things you would need to prepare for the process:\n",
    "### 1. Sign up for Heroku\n",
    "If you haven't already signed up for a Heroku Account, sign up for one <a href=\"https://signup.heroku.com/\">here</a>.\n",
    "\n",
    "\n",
    "### 2. Install the Heroku CLI\n",
    "You'll need to install the Heroku CLI for deployment, and it's available here: <a href=\"https://devcenter.heroku.com/articles/heroku-cli#download-and-install\">Heroku Command Line Interface</a>.\n",
    "\n",
    "For Windows, after the installation, you should make sure the path to the Heroku CLI (i.e. <code>C:\\Program Files\\heroku\\bin</code> on my device) is **added to the 'Path' variable in Environment Variables** -- under User Variables or System Variables should be fine -- and **restart your computer** for it to work. Just some Windows issue with the enviroment variables ¯\\\\_(ツ)_/¯\n",
    "\n",
    "\n",
    "### 3. Login to your Heroku account\n",
    "Open up your terminal and run:"
   ]
  },
  {
   "cell_type": "code",
   "execution_count": null,
   "metadata": {},
   "outputs": [],
   "source": [
    "heroku login"
   ]
  },
  {
   "cell_type": "markdown",
   "metadata": {},
   "source": [
    "This will open up a Heroku login page in the web browser and prompt you to enter the email and password to login. Once completed, you can close the web page, and now the terminal should print a message \"*logged in as [your_email]*\"."
   ]
  },
  {
   "cell_type": "markdown",
   "metadata": {},
   "source": [
    "---\n",
    "# Prepare the Required Files for Deployment\n",
    "Now you should have completed the environment set up for deploying your Streamlit service. The next thing we need to do is to prepare a few files required by Heroku in order for it to run your python code.\n",
    "\n",
    "### 4. Prepare the **requirement.txt**.\n",
    "\n",
    "If you have not installed <code>pipreqs</code> for auto generating the requirement file on your device, run the following command:"
   ]
  },
  {
   "cell_type": "code",
   "execution_count": null,
   "metadata": {},
   "outputs": [],
   "source": [
    "pip install pipreqs"
   ]
  },
  {
   "cell_type": "markdown",
   "metadata": {},
   "source": [
    "Then, under your project directory, simply generate the requirement.txt using the following command:"
   ]
  },
  {
   "cell_type": "code",
   "execution_count": null,
   "metadata": {},
   "outputs": [],
   "source": [
    "pipreqs"
   ]
  },
  {
   "cell_type": "markdown",
   "metadata": {},
   "source": [
    "Note that, if you are not under the project directory, you will need to give <code>pipreqs</code> a [path_to_directory]. To keep things simple, I would recommend you to first <code>cd</code> to the project directory."
   ]
  },
  {
   "cell_type": "markdown",
   "metadata": {},
   "source": [
    "### 5. Set up the Bash script setup.sh\n",
    "Next, you need a Bash script to configure streamlit on Heroku.\n",
    "\n",
    "Open up any text editor (Notepad, Notepad++, Sublime Text, etc.) and add the following script:"
   ]
  },
  {
   "cell_type": "code",
   "execution_count": null,
   "metadata": {},
   "outputs": [],
   "source": [
    "mkdir -p ~/.streamlit/\n",
    "echo \"[general]\n",
    "email = \\\"replace_this_with_your_email@email\\\"\n",
    "\" > ~/.streamlit/credentials.toml\n",
    "echo \"[server]\n",
    "headless = true\n",
    "port = $PORT\n",
    "enableCORS = false\n",
    "\" > ~/.streamlit/config.toml"
   ]
  },
  {
   "cell_type": "markdown",
   "metadata": {},
   "source": [
    "Remember to **replace \"replace_this_with_your_email@email\" in Line 3** with your Heroku account email. Name this exactly as <code>setup.sh</code> under your project's main directory."
   ]
  },
  {
   "cell_type": "markdown",
   "metadata": {},
   "source": [
    "### 6. Prepare the Procfile\n",
    "You'll also need a <code>Procfile</code> which specifies the commands that will be executed on startup by the Heroku web app.\n",
    "\n",
    "Again, use the text editor to create your Procfile that include the following:"
   ]
  },
  {
   "cell_type": "code",
   "execution_count": null,
   "metadata": {},
   "outputs": [],
   "source": [
    "web: sh setup.sh && streamlit run replace_this_with_your_script_name.py"
   ]
  },
  {
   "cell_type": "markdown",
   "metadata": {},
   "source": [
    "Remember to **replace \"replace_this_with_your_script_name\"** with your actual Python script file name. This file should be saved exactly as <code>Procfile</code> with **no file extension** and under the project's main directory."
   ]
  },
  {
   "cell_type": "markdown",
   "metadata": {},
   "source": [
    "---\n",
    "# Deployment to Heroku\n",
    "At this point, you should have already completed (1) setting up the environment for Heroku deployment and (2) preparing required files for the web app to use. \n",
    "\n",
    "Now, we will go into the actual deployment, which is pretty simple. The deployment process is very similar to pushing your code to the remote repo on Github, which I'm assuming you are familiar with. With Heroku, we just need to first tell it to create an app under your account, and the rest is the same for pushing code to the remote repo.\n",
    "\n",
    "To tell Heroku to create an app, using the following command:"
   ]
  },
  {
   "cell_type": "code",
   "execution_count": null,
   "metadata": {},
   "outputs": [],
   "source": [
    "heroku create example-appname"
   ]
  },
  {
   "cell_type": "markdown",
   "metadata": {},
   "source": [
    "This prompts Heroku to create an app with the name \"example-appname\". If you don't give it the name argument, the name will be generated at random. \n",
    "\n",
    "You should see something like the following in the terminal:\n",
    "\n",
    "<code>Creating app... done, ⬢ example-appname-12345\n",
    "https://example-appname-12345.herokuapp.com/ | https://git.heroku.com/example-appname-12345.git</code>\n",
    "\n",
    "The first link is the link to your web service, and the second is the link to the git repo.\n",
    "\n",
    "Now that Heroku has created a remote repo for your app, all that is left to do is to push your Python script and the required files that you generated from the previous section onto Heroku:"
   ]
  },
  {
   "cell_type": "code",
   "execution_count": null,
   "metadata": {},
   "outputs": [],
   "source": [
    "git add ."
   ]
  },
  {
   "cell_type": "code",
   "execution_count": null,
   "metadata": {},
   "outputs": [],
   "source": [
    "git commit -m \"Enter your message here\""
   ]
  },
  {
   "cell_type": "code",
   "execution_count": null,
   "metadata": {},
   "outputs": [],
   "source": [
    "git push origin master"
   ]
  },
  {
   "cell_type": "markdown",
   "metadata": {},
   "source": [
    "*Ta-daah!* Congrats on deploying and delievering your Heroku web service. You can now open the Heroku app from the link (e.g. https://example-appname-12345.herokuapp.com/) :D"
   ]
  }
 ],
 "metadata": {
  "kernelspec": {
   "display_name": "Python 3",
   "language": "python",
   "name": "python3"
  },
  "language_info": {
   "codemirror_mode": {
    "name": "ipython",
    "version": 3
   },
   "file_extension": ".py",
   "mimetype": "text/x-python",
   "name": "python",
   "nbconvert_exporter": "python",
   "pygments_lexer": "ipython3",
   "version": "3.8.3"
  }
 },
 "nbformat": 4,
 "nbformat_minor": 4
}
