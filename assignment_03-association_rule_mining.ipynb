{
 "cells": [
  {
   "cell_type": "markdown",
   "metadata": {},
   "source": [
    "## Part 1: Online Retail Market Basket Analysis"
   ]
  },
  {
   "cell_type": "code",
   "execution_count": 1,
   "metadata": {},
   "outputs": [],
   "source": [
    "import pandas as pd\n",
    "pd.set_option(\"max_colwidth\", 150)\n",
    "\n",
    "# Loading the online data\n",
    "f = \"https://github.com/cs6220/cs6220.spring2019/raw/master/data/Online%20Retail.xlsx\"\n",
    "df = pd.read_excel(f)\n",
    "basket = (df[df[\"Country\"] == \"United Kingdom\"]\n",
    "          .groupby([\"InvoiceNo\", \"Description\"])[\"Quantity\"]\n",
    "          .sum().unstack().reset_index().fillna(0)\n",
    "          .set_index(\"InvoiceNo\")) # transform transactions into baskets of items\n",
    "basket_sets = basket.applymap(lambda x: 1 if x >=1 else 0) # convert counts to booleans"
   ]
  },
  {
   "cell_type": "code",
   "execution_count": 2,
   "metadata": {},
   "outputs": [
    {
     "data": {
      "text/html": [
       "<div>\n",
       "<style scoped>\n",
       "    .dataframe tbody tr th:only-of-type {\n",
       "        vertical-align: middle;\n",
       "    }\n",
       "\n",
       "    .dataframe tbody tr th {\n",
       "        vertical-align: top;\n",
       "    }\n",
       "\n",
       "    .dataframe thead th {\n",
       "        text-align: right;\n",
       "    }\n",
       "</style>\n",
       "<table border=\"1\" class=\"dataframe\">\n",
       "  <thead>\n",
       "    <tr style=\"text-align: right;\">\n",
       "      <th>Description</th>\n",
       "      <th>20713</th>\n",
       "      <th>4 PURPLE FLOCK DINNER CANDLES</th>\n",
       "      <th>50'S CHRISTMAS GIFT BAG LARGE</th>\n",
       "      <th>DOLLY GIRL BEAKER</th>\n",
       "      <th>I LOVE LONDON MINI BACKPACK</th>\n",
       "      <th>NINE DRAWER OFFICE TIDY</th>\n",
       "      <th>OVAL WALL MIRROR DIAMANTE</th>\n",
       "      <th>RED SPOT GIFT BAG LARGE</th>\n",
       "      <th>SET 2 TEA TOWELS I LOVE LONDON</th>\n",
       "      <th>SPACEBOY BABY GIFT SET</th>\n",
       "      <th>...</th>\n",
       "      <th>wrongly coded 20713</th>\n",
       "      <th>wrongly coded 23343</th>\n",
       "      <th>wrongly coded-23343</th>\n",
       "      <th>wrongly marked</th>\n",
       "      <th>wrongly marked 23343</th>\n",
       "      <th>wrongly marked carton 22804</th>\n",
       "      <th>wrongly marked. 23343 in box</th>\n",
       "      <th>wrongly sold (22719) barcode</th>\n",
       "      <th>wrongly sold as sets</th>\n",
       "      <th>wrongly sold sets</th>\n",
       "    </tr>\n",
       "    <tr>\n",
       "      <th>InvoiceNo</th>\n",
       "      <th></th>\n",
       "      <th></th>\n",
       "      <th></th>\n",
       "      <th></th>\n",
       "      <th></th>\n",
       "      <th></th>\n",
       "      <th></th>\n",
       "      <th></th>\n",
       "      <th></th>\n",
       "      <th></th>\n",
       "      <th></th>\n",
       "      <th></th>\n",
       "      <th></th>\n",
       "      <th></th>\n",
       "      <th></th>\n",
       "      <th></th>\n",
       "      <th></th>\n",
       "      <th></th>\n",
       "      <th></th>\n",
       "      <th></th>\n",
       "      <th></th>\n",
       "    </tr>\n",
       "  </thead>\n",
       "  <tbody>\n",
       "    <tr>\n",
       "      <th>536365</th>\n",
       "      <td>0</td>\n",
       "      <td>0</td>\n",
       "      <td>0</td>\n",
       "      <td>0</td>\n",
       "      <td>0</td>\n",
       "      <td>0</td>\n",
       "      <td>0</td>\n",
       "      <td>0</td>\n",
       "      <td>0</td>\n",
       "      <td>0</td>\n",
       "      <td>...</td>\n",
       "      <td>0</td>\n",
       "      <td>0</td>\n",
       "      <td>0</td>\n",
       "      <td>0</td>\n",
       "      <td>0</td>\n",
       "      <td>0</td>\n",
       "      <td>0</td>\n",
       "      <td>0</td>\n",
       "      <td>0</td>\n",
       "      <td>0</td>\n",
       "    </tr>\n",
       "    <tr>\n",
       "      <th>536366</th>\n",
       "      <td>0</td>\n",
       "      <td>0</td>\n",
       "      <td>0</td>\n",
       "      <td>0</td>\n",
       "      <td>0</td>\n",
       "      <td>0</td>\n",
       "      <td>0</td>\n",
       "      <td>0</td>\n",
       "      <td>0</td>\n",
       "      <td>0</td>\n",
       "      <td>...</td>\n",
       "      <td>0</td>\n",
       "      <td>0</td>\n",
       "      <td>0</td>\n",
       "      <td>0</td>\n",
       "      <td>0</td>\n",
       "      <td>0</td>\n",
       "      <td>0</td>\n",
       "      <td>0</td>\n",
       "      <td>0</td>\n",
       "      <td>0</td>\n",
       "    </tr>\n",
       "    <tr>\n",
       "      <th>536367</th>\n",
       "      <td>0</td>\n",
       "      <td>0</td>\n",
       "      <td>0</td>\n",
       "      <td>0</td>\n",
       "      <td>0</td>\n",
       "      <td>0</td>\n",
       "      <td>0</td>\n",
       "      <td>0</td>\n",
       "      <td>0</td>\n",
       "      <td>0</td>\n",
       "      <td>...</td>\n",
       "      <td>0</td>\n",
       "      <td>0</td>\n",
       "      <td>0</td>\n",
       "      <td>0</td>\n",
       "      <td>0</td>\n",
       "      <td>0</td>\n",
       "      <td>0</td>\n",
       "      <td>0</td>\n",
       "      <td>0</td>\n",
       "      <td>0</td>\n",
       "    </tr>\n",
       "    <tr>\n",
       "      <th>536368</th>\n",
       "      <td>0</td>\n",
       "      <td>0</td>\n",
       "      <td>0</td>\n",
       "      <td>0</td>\n",
       "      <td>0</td>\n",
       "      <td>0</td>\n",
       "      <td>0</td>\n",
       "      <td>0</td>\n",
       "      <td>0</td>\n",
       "      <td>0</td>\n",
       "      <td>...</td>\n",
       "      <td>0</td>\n",
       "      <td>0</td>\n",
       "      <td>0</td>\n",
       "      <td>0</td>\n",
       "      <td>0</td>\n",
       "      <td>0</td>\n",
       "      <td>0</td>\n",
       "      <td>0</td>\n",
       "      <td>0</td>\n",
       "      <td>0</td>\n",
       "    </tr>\n",
       "    <tr>\n",
       "      <th>536369</th>\n",
       "      <td>0</td>\n",
       "      <td>0</td>\n",
       "      <td>0</td>\n",
       "      <td>0</td>\n",
       "      <td>0</td>\n",
       "      <td>0</td>\n",
       "      <td>0</td>\n",
       "      <td>0</td>\n",
       "      <td>0</td>\n",
       "      <td>0</td>\n",
       "      <td>...</td>\n",
       "      <td>0</td>\n",
       "      <td>0</td>\n",
       "      <td>0</td>\n",
       "      <td>0</td>\n",
       "      <td>0</td>\n",
       "      <td>0</td>\n",
       "      <td>0</td>\n",
       "      <td>0</td>\n",
       "      <td>0</td>\n",
       "      <td>0</td>\n",
       "    </tr>\n",
       "  </tbody>\n",
       "</table>\n",
       "<p>5 rows × 4202 columns</p>\n",
       "</div>"
      ],
      "text/plain": [
       "Description  20713   4 PURPLE FLOCK DINNER CANDLES  \\\n",
       "InvoiceNo                                            \n",
       "536365           0                               0   \n",
       "536366           0                               0   \n",
       "536367           0                               0   \n",
       "536368           0                               0   \n",
       "536369           0                               0   \n",
       "\n",
       "Description   50'S CHRISTMAS GIFT BAG LARGE   DOLLY GIRL BEAKER  \\\n",
       "InvoiceNo                                                         \n",
       "536365                                    0                   0   \n",
       "536366                                    0                   0   \n",
       "536367                                    0                   0   \n",
       "536368                                    0                   0   \n",
       "536369                                    0                   0   \n",
       "\n",
       "Description   I LOVE LONDON MINI BACKPACK   NINE DRAWER OFFICE TIDY  \\\n",
       "InvoiceNo                                                             \n",
       "536365                                  0                         0   \n",
       "536366                                  0                         0   \n",
       "536367                                  0                         0   \n",
       "536368                                  0                         0   \n",
       "536369                                  0                         0   \n",
       "\n",
       "Description   OVAL WALL MIRROR DIAMANTE    RED SPOT GIFT BAG LARGE  \\\n",
       "InvoiceNo                                                            \n",
       "536365                                 0                         0   \n",
       "536366                                 0                         0   \n",
       "536367                                 0                         0   \n",
       "536368                                 0                         0   \n",
       "536369                                 0                         0   \n",
       "\n",
       "Description   SET 2 TEA TOWELS I LOVE LONDON    SPACEBOY BABY GIFT SET  ...  \\\n",
       "InvoiceNo                                                               ...   \n",
       "536365                                      0                        0  ...   \n",
       "536366                                      0                        0  ...   \n",
       "536367                                      0                        0  ...   \n",
       "536368                                      0                        0  ...   \n",
       "536369                                      0                        0  ...   \n",
       "\n",
       "Description  wrongly coded 20713  wrongly coded 23343  wrongly coded-23343  \\\n",
       "InvoiceNo                                                                    \n",
       "536365                         0                    0                    0   \n",
       "536366                         0                    0                    0   \n",
       "536367                         0                    0                    0   \n",
       "536368                         0                    0                    0   \n",
       "536369                         0                    0                    0   \n",
       "\n",
       "Description  wrongly marked  wrongly marked 23343  \\\n",
       "InvoiceNo                                           \n",
       "536365                    0                     0   \n",
       "536366                    0                     0   \n",
       "536367                    0                     0   \n",
       "536368                    0                     0   \n",
       "536369                    0                     0   \n",
       "\n",
       "Description  wrongly marked carton 22804  wrongly marked. 23343 in box  \\\n",
       "InvoiceNo                                                                \n",
       "536365                                 0                             0   \n",
       "536366                                 0                             0   \n",
       "536367                                 0                             0   \n",
       "536368                                 0                             0   \n",
       "536369                                 0                             0   \n",
       "\n",
       "Description  wrongly sold (22719) barcode  wrongly sold as sets  \\\n",
       "InvoiceNo                                                         \n",
       "536365                                  0                     0   \n",
       "536366                                  0                     0   \n",
       "536367                                  0                     0   \n",
       "536368                                  0                     0   \n",
       "536369                                  0                     0   \n",
       "\n",
       "Description  wrongly sold sets  \n",
       "InvoiceNo                       \n",
       "536365                       0  \n",
       "536366                       0  \n",
       "536367                       0  \n",
       "536368                       0  \n",
       "536369                       0  \n",
       "\n",
       "[5 rows x 4202 columns]"
      ]
     },
     "execution_count": 2,
     "metadata": {},
     "output_type": "execute_result"
    }
   ],
   "source": [
    "basket_sets.head()"
   ]
  },
  {
   "cell_type": "markdown",
   "metadata": {},
   "source": [
    "### 1.1 - Frequent Itemset Generation"
   ]
  },
  {
   "cell_type": "code",
   "execution_count": 3,
   "metadata": {},
   "outputs": [],
   "source": [
    "from mlxtend.frequent_patterns import apriori"
   ]
  },
  {
   "cell_type": "code",
   "execution_count": 4,
   "metadata": {},
   "outputs": [],
   "source": [
    "support_threshold = 0.02 # Memory Error if below this value \n",
    "\n",
    "frequent_itemsets = apriori(basket_sets, min_support=support_threshold, use_colnames=True)\n",
    "frequent_itemsets['length'] = frequent_itemsets['itemsets'].apply(lambda x: len(x))"
   ]
  },
  {
   "cell_type": "code",
   "execution_count": 5,
   "metadata": {},
   "outputs": [
    {
     "data": {
      "text/html": [
       "<div>\n",
       "<style scoped>\n",
       "    .dataframe tbody tr th:only-of-type {\n",
       "        vertical-align: middle;\n",
       "    }\n",
       "\n",
       "    .dataframe tbody tr th {\n",
       "        vertical-align: top;\n",
       "    }\n",
       "\n",
       "    .dataframe thead th {\n",
       "        text-align: right;\n",
       "    }\n",
       "</style>\n",
       "<table border=\"1\" class=\"dataframe\">\n",
       "  <thead>\n",
       "    <tr style=\"text-align: right;\">\n",
       "      <th></th>\n",
       "      <th>support</th>\n",
       "      <th>itemsets</th>\n",
       "      <th>length</th>\n",
       "    </tr>\n",
       "  </thead>\n",
       "  <tbody>\n",
       "    <tr>\n",
       "      <th>181</th>\n",
       "      <td>0.020327</td>\n",
       "      <td>(TOY TIDY PINK POLKADOT)</td>\n",
       "      <td>1</td>\n",
       "    </tr>\n",
       "    <tr>\n",
       "      <th>170</th>\n",
       "      <td>0.020327</td>\n",
       "      <td>(SMALL HEART MEASURING SPOONS)</td>\n",
       "      <td>1</td>\n",
       "    </tr>\n",
       "    <tr>\n",
       "      <th>40</th>\n",
       "      <td>0.020327</td>\n",
       "      <td>(FELTCRAFT CUSHION OWL)</td>\n",
       "      <td>1</td>\n",
       "    </tr>\n",
       "    <tr>\n",
       "      <th>21</th>\n",
       "      <td>0.020191</td>\n",
       "      <td>(CHOCOLATE THIS WAY METAL SIGN)</td>\n",
       "      <td>1</td>\n",
       "    </tr>\n",
       "    <tr>\n",
       "      <th>114</th>\n",
       "      <td>0.020009</td>\n",
       "      <td>(PACK OF 60 SPACEBOY CAKE CASES)</td>\n",
       "      <td>1</td>\n",
       "    </tr>\n",
       "  </tbody>\n",
       "</table>\n",
       "</div>"
      ],
      "text/plain": [
       "      support                          itemsets  length\n",
       "181  0.020327          (TOY TIDY PINK POLKADOT)       1\n",
       "170  0.020327    (SMALL HEART MEASURING SPOONS)       1\n",
       "40   0.020327           (FELTCRAFT CUSHION OWL)       1\n",
       "21   0.020191   (CHOCOLATE THIS WAY METAL SIGN)       1\n",
       "114  0.020009  (PACK OF 60 SPACEBOY CAKE CASES)       1"
      ]
     },
     "execution_count": 5,
     "metadata": {},
     "output_type": "execute_result"
    }
   ],
   "source": [
    "# Top 5 1-itemsets with the highest support\n",
    "frequent_itemsets[(frequent_itemsets['length'] == 1)].sort_values(by=['support'],ascending=False).tail()"
   ]
  },
  {
   "cell_type": "code",
   "execution_count": 6,
   "metadata": {},
   "outputs": [
    {
     "data": {
      "text/html": [
       "<div>\n",
       "<style scoped>\n",
       "    .dataframe tbody tr th:only-of-type {\n",
       "        vertical-align: middle;\n",
       "    }\n",
       "\n",
       "    .dataframe tbody tr th {\n",
       "        vertical-align: top;\n",
       "    }\n",
       "\n",
       "    .dataframe thead th {\n",
       "        text-align: right;\n",
       "    }\n",
       "</style>\n",
       "<table border=\"1\" class=\"dataframe\">\n",
       "  <thead>\n",
       "    <tr style=\"text-align: right;\">\n",
       "      <th></th>\n",
       "      <th>support</th>\n",
       "      <th>itemsets</th>\n",
       "      <th>length</th>\n",
       "    </tr>\n",
       "  </thead>\n",
       "  <tbody>\n",
       "    <tr>\n",
       "      <th>211</th>\n",
       "      <td>0.035617</td>\n",
       "      <td>(JUMBO BAG PINK POLKADOT, JUMBO BAG RED RETROSPOT)</td>\n",
       "      <td>2</td>\n",
       "    </tr>\n",
       "    <tr>\n",
       "      <th>207</th>\n",
       "      <td>0.031806</td>\n",
       "      <td>(GREEN REGENCY TEACUP AND SAUCER, ROSES REGENCY TEACUP AND SAUCER )</td>\n",
       "      <td>2</td>\n",
       "    </tr>\n",
       "    <tr>\n",
       "      <th>218</th>\n",
       "      <td>0.031670</td>\n",
       "      <td>(JUMBO STORAGE BAG SUKI, JUMBO BAG RED RETROSPOT)</td>\n",
       "      <td>2</td>\n",
       "    </tr>\n",
       "    <tr>\n",
       "      <th>217</th>\n",
       "      <td>0.029809</td>\n",
       "      <td>(JUMBO SHOPPER VINTAGE RED PAISLEY, JUMBO BAG RED RETROSPOT)</td>\n",
       "      <td>2</td>\n",
       "    </tr>\n",
       "    <tr>\n",
       "      <th>223</th>\n",
       "      <td>0.027541</td>\n",
       "      <td>(LUNCH BAG RED RETROSPOT, LUNCH BAG  BLACK SKULL.)</td>\n",
       "      <td>2</td>\n",
       "    </tr>\n",
       "  </tbody>\n",
       "</table>\n",
       "</div>"
      ],
      "text/plain": [
       "      support  \\\n",
       "211  0.035617   \n",
       "207  0.031806   \n",
       "218  0.031670   \n",
       "217  0.029809   \n",
       "223  0.027541   \n",
       "\n",
       "                                                                itemsets  \\\n",
       "211                   (JUMBO BAG PINK POLKADOT, JUMBO BAG RED RETROSPOT)   \n",
       "207  (GREEN REGENCY TEACUP AND SAUCER, ROSES REGENCY TEACUP AND SAUCER )   \n",
       "218                    (JUMBO STORAGE BAG SUKI, JUMBO BAG RED RETROSPOT)   \n",
       "217         (JUMBO SHOPPER VINTAGE RED PAISLEY, JUMBO BAG RED RETROSPOT)   \n",
       "223                   (LUNCH BAG RED RETROSPOT, LUNCH BAG  BLACK SKULL.)   \n",
       "\n",
       "     length  \n",
       "211       2  \n",
       "207       2  \n",
       "218       2  \n",
       "217       2  \n",
       "223       2  "
      ]
     },
     "execution_count": 6,
     "metadata": {},
     "output_type": "execute_result"
    }
   ],
   "source": [
    "# Top 5 2-itemsets with the highest support\n",
    "frequent_itemsets[(frequent_itemsets['length'] == 2)].sort_values(by=['support'],ascending=False).head()"
   ]
  },
  {
   "cell_type": "code",
   "execution_count": 7,
   "metadata": {},
   "outputs": [
    {
     "data": {
      "text/plain": [
       "188    0.098276\n",
       "Name: support, dtype: float64"
      ]
     },
     "execution_count": 7,
     "metadata": {},
     "output_type": "execute_result"
    }
   ],
   "source": [
    "# The highest support value for the 1-itemsets\n",
    "frequent_itemsets[(frequent_itemsets['length'] == 1)].sort_values(by=['support'],ascending=False).head(1)['support']"
   ]
  },
  {
   "cell_type": "code",
   "execution_count": 8,
   "metadata": {},
   "outputs": [
    {
     "data": {
      "text/plain": [
       "211    0.035617\n",
       "Name: support, dtype: float64"
      ]
     },
     "execution_count": 8,
     "metadata": {},
     "output_type": "execute_result"
    }
   ],
   "source": [
    "# The highest support value for the 2-itemsets\n",
    "frequent_itemsets[(frequent_itemsets['length'] == 2)].sort_values(by=['support'], ascending=False).head(1)['support']"
   ]
  },
  {
   "cell_type": "markdown",
   "metadata": {},
   "source": [
    "### 1.2 - Association Rule Generation"
   ]
  },
  {
   "cell_type": "code",
   "execution_count": 9,
   "metadata": {},
   "outputs": [],
   "source": [
    "from mlxtend.frequent_patterns import association_rules"
   ]
  },
  {
   "cell_type": "code",
   "execution_count": 10,
   "metadata": {},
   "outputs": [
    {
     "data": {
      "text/html": [
       "<div>\n",
       "<style scoped>\n",
       "    .dataframe tbody tr th:only-of-type {\n",
       "        vertical-align: middle;\n",
       "    }\n",
       "\n",
       "    .dataframe tbody tr th {\n",
       "        vertical-align: top;\n",
       "    }\n",
       "\n",
       "    .dataframe thead th {\n",
       "        text-align: right;\n",
       "    }\n",
       "</style>\n",
       "<table border=\"1\" class=\"dataframe\">\n",
       "  <thead>\n",
       "    <tr style=\"text-align: right;\">\n",
       "      <th></th>\n",
       "      <th>antecedents</th>\n",
       "      <th>consequents</th>\n",
       "      <th>support</th>\n",
       "      <th>confidence</th>\n",
       "      <th>lift</th>\n",
       "    </tr>\n",
       "  </thead>\n",
       "  <tbody>\n",
       "    <tr>\n",
       "      <th>8</th>\n",
       "      <td>(ROSES REGENCY TEACUP AND SAUCER , PINK REGENCY TEACUP AND SAUCER)</td>\n",
       "      <td>(GREEN REGENCY TEACUP AND SAUCER)</td>\n",
       "      <td>0.022368</td>\n",
       "      <td>0.902930</td>\n",
       "      <td>21.306837</td>\n",
       "    </tr>\n",
       "    <tr>\n",
       "      <th>6</th>\n",
       "      <td>(GREEN REGENCY TEACUP AND SAUCER, PINK REGENCY TEACUP AND SAUCER)</td>\n",
       "      <td>(ROSES REGENCY TEACUP AND SAUCER )</td>\n",
       "      <td>0.022368</td>\n",
       "      <td>0.854419</td>\n",
       "      <td>19.677538</td>\n",
       "    </tr>\n",
       "    <tr>\n",
       "      <th>2</th>\n",
       "      <td>(PINK REGENCY TEACUP AND SAUCER)</td>\n",
       "      <td>(GREEN REGENCY TEACUP AND SAUCER)</td>\n",
       "      <td>0.026180</td>\n",
       "      <td>0.820768</td>\n",
       "      <td>19.368019</td>\n",
       "    </tr>\n",
       "    <tr>\n",
       "      <th>5</th>\n",
       "      <td>(PINK REGENCY TEACUP AND SAUCER)</td>\n",
       "      <td>(ROSES REGENCY TEACUP AND SAUCER )</td>\n",
       "      <td>0.024773</td>\n",
       "      <td>0.776671</td>\n",
       "      <td>17.886978</td>\n",
       "    </tr>\n",
       "    <tr>\n",
       "      <th>3</th>\n",
       "      <td>(GREEN REGENCY TEACUP AND SAUCER)</td>\n",
       "      <td>(ROSES REGENCY TEACUP AND SAUCER )</td>\n",
       "      <td>0.031806</td>\n",
       "      <td>0.750535</td>\n",
       "      <td>17.285056</td>\n",
       "    </tr>\n",
       "  </tbody>\n",
       "</table>\n",
       "</div>"
      ],
      "text/plain": [
       "                                                          antecedents  \\\n",
       "8  (ROSES REGENCY TEACUP AND SAUCER , PINK REGENCY TEACUP AND SAUCER)   \n",
       "6   (GREEN REGENCY TEACUP AND SAUCER, PINK REGENCY TEACUP AND SAUCER)   \n",
       "2                                    (PINK REGENCY TEACUP AND SAUCER)   \n",
       "5                                    (PINK REGENCY TEACUP AND SAUCER)   \n",
       "3                                   (GREEN REGENCY TEACUP AND SAUCER)   \n",
       "\n",
       "                          consequents   support  confidence       lift  \n",
       "8   (GREEN REGENCY TEACUP AND SAUCER)  0.022368    0.902930  21.306837  \n",
       "6  (ROSES REGENCY TEACUP AND SAUCER )  0.022368    0.854419  19.677538  \n",
       "2   (GREEN REGENCY TEACUP AND SAUCER)  0.026180    0.820768  19.368019  \n",
       "5  (ROSES REGENCY TEACUP AND SAUCER )  0.024773    0.776671  17.886978  \n",
       "3  (ROSES REGENCY TEACUP AND SAUCER )  0.031806    0.750535  17.285056  "
      ]
     },
     "execution_count": 10,
     "metadata": {},
     "output_type": "execute_result"
    }
   ],
   "source": [
    "confidence_threshold = 0.7\n",
    "\n",
    "association_rules(frequent_itemsets, metric=\"confidence\", min_threshold=confidence_threshold).sort_values(by=['confidence'], ascending=False).head()[['antecedents','consequents','support','confidence','lift']]"
   ]
  },
  {
   "cell_type": "markdown",
   "metadata": {},
   "source": [
    "The **different color variety of recency teacup and saucers** makes up the top association rules, which is very likely to be bought together since they could be complimentary products (same products but with different color options)."
   ]
  },
  {
   "cell_type": "markdown",
   "metadata": {},
   "source": [
    "---\n",
    "## Part 2: Association Rule Mining U.S. Census Data"
   ]
  },
  {
   "cell_type": "code",
   "execution_count": 11,
   "metadata": {},
   "outputs": [],
   "source": [
    "import numpy as np\n",
    "import pandas as pd\n",
    "\n",
    "path = \"https://raw.githubusercontent.com/cs6220/cs6220.spring2019/master/data/adult/\"\n",
    "names = pd.read_csv(path + \"adult.names\", sep=\"\\n\", header=None)\n",
    "parse_cols = lambda x: x.str.split(\":\", expand=True).iloc[:, 0]\n",
    "columns = np.roll(parse_cols(names.iloc[92:108, 0]), shift=-1)\n",
    "\n",
    "df_adult = pd.read_csv(path + \"adult.data\", sep=\",\", header=None, index_col=False)\n",
    "df_adult.columns = columns"
   ]
  },
  {
   "cell_type": "code",
   "execution_count": 12,
   "metadata": {},
   "outputs": [],
   "source": [
    "from ipywidgets import interact, IntSlider\n",
    "from IPython.display import display\n",
    "\n",
    "# Credit source to: https://stackoverflow.com/questions/28778668/freeze-header-in-pandas-dataframe\n",
    "def freeze_header(df, num_rows=30, num_columns=10, step_rows=1,\n",
    "                  step_columns=1):\n",
    "    \"\"\"\n",
    "    Freeze the headers (column and index names) of a Pandas DataFrame. A widget\n",
    "    enables to slide through the rows and columns.\n",
    "    \"\"\"\n",
    "    @interact(last_row=IntSlider(min=min(num_rows, df.shape[0]),\n",
    "                                 max=df.shape[0],\n",
    "                                 step=step_rows,\n",
    "                                 description='rows',\n",
    "                                 readout=False,\n",
    "                                 disabled=False,\n",
    "                                 continuous_update=True,\n",
    "                                 orientation='horizontal',\n",
    "                                 slider_color='purple'),\n",
    "              last_column=IntSlider(min=min(num_columns, df.shape[1]),\n",
    "                                    max=df.shape[1],\n",
    "                                    step=step_columns,\n",
    "                                    description='columns',\n",
    "                                    readout=False,\n",
    "                                    disabled=False,\n",
    "                                    continuous_update=True,\n",
    "                                    orientation='horizontal',\n",
    "                                    slider_color='purple'))\n",
    "    def _freeze_header(last_row, last_column):\n",
    "        display(df.iloc[max(0, last_row-num_rows):last_row,\n",
    "                        max(0, last_column-num_columns):last_column])"
   ]
  },
  {
   "cell_type": "markdown",
   "metadata": {},
   "source": [
    "### 2.1 - Association Rule Mining"
   ]
  },
  {
   "cell_type": "code",
   "execution_count": 13,
   "metadata": {},
   "outputs": [],
   "source": [
    "# df_adult.head()"
   ]
  },
  {
   "cell_type": "markdown",
   "metadata": {},
   "source": [
    "#### One-Hot Encoding"
   ]
  },
  {
   "cell_type": "code",
   "execution_count": 14,
   "metadata": {},
   "outputs": [
    {
     "data": {
      "text/html": [
       "<div>\n",
       "<style scoped>\n",
       "    .dataframe tbody tr th:only-of-type {\n",
       "        vertical-align: middle;\n",
       "    }\n",
       "\n",
       "    .dataframe tbody tr th {\n",
       "        vertical-align: top;\n",
       "    }\n",
       "\n",
       "    .dataframe thead th {\n",
       "        text-align: right;\n",
       "    }\n",
       "</style>\n",
       "<table border=\"1\" class=\"dataframe\">\n",
       "  <thead>\n",
       "    <tr style=\"text-align: right;\">\n",
       "      <th></th>\n",
       "      <th>workclass</th>\n",
       "      <th>education</th>\n",
       "      <th>marital-status</th>\n",
       "      <th>occupation</th>\n",
       "      <th>relationship</th>\n",
       "      <th>race</th>\n",
       "      <th>sex</th>\n",
       "      <th>native-country</th>\n",
       "      <th>&gt;50K, &lt;=50K.</th>\n",
       "    </tr>\n",
       "  </thead>\n",
       "  <tbody>\n",
       "    <tr>\n",
       "      <th>0</th>\n",
       "      <td>State-gov</td>\n",
       "      <td>Bachelors</td>\n",
       "      <td>Never-married</td>\n",
       "      <td>Adm-clerical</td>\n",
       "      <td>Not-in-family</td>\n",
       "      <td>White</td>\n",
       "      <td>Male</td>\n",
       "      <td>United-States</td>\n",
       "      <td>&lt;=50K</td>\n",
       "    </tr>\n",
       "    <tr>\n",
       "      <th>1</th>\n",
       "      <td>Self-emp-not-inc</td>\n",
       "      <td>Bachelors</td>\n",
       "      <td>Married-civ-spouse</td>\n",
       "      <td>Exec-managerial</td>\n",
       "      <td>Husband</td>\n",
       "      <td>White</td>\n",
       "      <td>Male</td>\n",
       "      <td>United-States</td>\n",
       "      <td>&lt;=50K</td>\n",
       "    </tr>\n",
       "    <tr>\n",
       "      <th>2</th>\n",
       "      <td>Private</td>\n",
       "      <td>HS-grad</td>\n",
       "      <td>Divorced</td>\n",
       "      <td>Handlers-cleaners</td>\n",
       "      <td>Not-in-family</td>\n",
       "      <td>White</td>\n",
       "      <td>Male</td>\n",
       "      <td>United-States</td>\n",
       "      <td>&lt;=50K</td>\n",
       "    </tr>\n",
       "    <tr>\n",
       "      <th>3</th>\n",
       "      <td>Private</td>\n",
       "      <td>11th</td>\n",
       "      <td>Married-civ-spouse</td>\n",
       "      <td>Handlers-cleaners</td>\n",
       "      <td>Husband</td>\n",
       "      <td>Black</td>\n",
       "      <td>Male</td>\n",
       "      <td>United-States</td>\n",
       "      <td>&lt;=50K</td>\n",
       "    </tr>\n",
       "    <tr>\n",
       "      <th>4</th>\n",
       "      <td>Private</td>\n",
       "      <td>Bachelors</td>\n",
       "      <td>Married-civ-spouse</td>\n",
       "      <td>Prof-specialty</td>\n",
       "      <td>Wife</td>\n",
       "      <td>Black</td>\n",
       "      <td>Female</td>\n",
       "      <td>Cuba</td>\n",
       "      <td>&lt;=50K</td>\n",
       "    </tr>\n",
       "  </tbody>\n",
       "</table>\n",
       "</div>"
      ],
      "text/plain": [
       "           workclass   education       marital-status          occupation  \\\n",
       "0          State-gov   Bachelors        Never-married        Adm-clerical   \n",
       "1   Self-emp-not-inc   Bachelors   Married-civ-spouse     Exec-managerial   \n",
       "2            Private     HS-grad             Divorced   Handlers-cleaners   \n",
       "3            Private        11th   Married-civ-spouse   Handlers-cleaners   \n",
       "4            Private   Bachelors   Married-civ-spouse      Prof-specialty   \n",
       "\n",
       "     relationship    race      sex  native-country >50K, <=50K.  \n",
       "0   Not-in-family   White     Male   United-States        <=50K  \n",
       "1         Husband   White     Male   United-States        <=50K  \n",
       "2   Not-in-family   White     Male   United-States        <=50K  \n",
       "3         Husband   Black     Male   United-States        <=50K  \n",
       "4            Wife   Black   Female            Cuba        <=50K  "
      ]
     },
     "execution_count": 14,
     "metadata": {},
     "output_type": "execute_result"
    }
   ],
   "source": [
    "# dropping all continuous columns\n",
    "df_adult_nom = df_adult.select_dtypes([np.object])\n",
    "df_adult_nom.head()"
   ]
  },
  {
   "cell_type": "code",
   "execution_count": 15,
   "metadata": {},
   "outputs": [],
   "source": [
    "#from sklearn.preprocessing import OneHotEncoder\n",
    "#cat_encoder = OneHotEncoder()"
   ]
  },
  {
   "cell_type": "code",
   "execution_count": 16,
   "metadata": {},
   "outputs": [],
   "source": [
    "# one-hot encoding the remaining columns\n",
    "#df_adult_1hot = cat_encoder.fit_transform(df_adult_nom)\n",
    "#df_adult_1hot;"
   ]
  },
  {
   "cell_type": "code",
   "execution_count": 17,
   "metadata": {},
   "outputs": [],
   "source": [
    "#df_adult_1hot.toarray()"
   ]
  },
  {
   "cell_type": "code",
   "execution_count": 18,
   "metadata": {},
   "outputs": [],
   "source": [
    "#cat_encoder.categories_"
   ]
  },
  {
   "cell_type": "code",
   "execution_count": 19,
   "metadata": {},
   "outputs": [],
   "source": [
    "# one-hot encoding the remaining columns\n",
    "from pandas import get_dummies\n",
    "df_adult_1hot = pd.get_dummies(df_adult_nom)"
   ]
  },
  {
   "cell_type": "markdown",
   "metadata": {},
   "source": [
    "### Rule Generation with Support = 0.3"
   ]
  },
  {
   "cell_type": "code",
   "execution_count": 20,
   "metadata": {},
   "outputs": [],
   "source": [
    "support_threshold = 0.3\n",
    "\n",
    "# Using support = 0.3\n",
    "frequent_itemsets_1 = apriori(df_adult_1hot, min_support=support_threshold, use_colnames=True, max_len=3)\n",
    "frequent_itemsets_1['length'] = frequent_itemsets_1['itemsets'].apply(lambda x: len(x))"
   ]
  },
  {
   "cell_type": "markdown",
   "metadata": {},
   "source": [
    "#### Rule Interestingness with Confidence"
   ]
  },
  {
   "cell_type": "code",
   "execution_count": 21,
   "metadata": {},
   "outputs": [],
   "source": [
    "confidence_threshold=0.7\n",
    "\n",
    "rules_conf_1 = association_rules(frequent_itemsets_1, metric=\"confidence\", min_threshold=confidence_threshold)\n",
    "#rules_conf.head()"
   ]
  },
  {
   "cell_type": "code",
   "execution_count": 22,
   "metadata": {},
   "outputs": [],
   "source": [
    "# Compute a column for antecedent length\n",
    "rules_conf_1[\"antecedent_len\"] = rules_conf_1[\"antecedents\"].apply(lambda x: len(x))"
   ]
  },
  {
   "cell_type": "code",
   "execution_count": 23,
   "metadata": {},
   "outputs": [
    {
     "data": {
      "application/vnd.jupyter.widget-view+json": {
       "model_id": "3254eda0beb042c8bd54215b6a32339d",
       "version_major": 2,
       "version_minor": 0
      },
      "text/plain": [
       "interactive(children=(IntSlider(value=5, description='rows', max=69, min=5, readout=False), IntSlider(value=6,…"
      ]
     },
     "metadata": {},
     "output_type": "display_data"
    }
   ],
   "source": [
    "# A quick look at the top rules using confidence as interestingness and ranked by confidence\n",
    "freeze_header(num_rows=5, df=rules_conf_1[(rules_conf_1['confidence'] > 0.75) ].sort_values(by=['confidence'], ascending=False)[['antecedents','consequents','support','confidence','lift','antecedent_len']])"
   ]
  },
  {
   "cell_type": "code",
   "execution_count": 24,
   "metadata": {},
   "outputs": [
    {
     "data": {
      "text/html": [
       "<div>\n",
       "<style scoped>\n",
       "    .dataframe tbody tr th:only-of-type {\n",
       "        vertical-align: middle;\n",
       "    }\n",
       "\n",
       "    .dataframe tbody tr th {\n",
       "        vertical-align: top;\n",
       "    }\n",
       "\n",
       "    .dataframe thead th {\n",
       "        text-align: right;\n",
       "    }\n",
       "</style>\n",
       "<table border=\"1\" class=\"dataframe\">\n",
       "  <thead>\n",
       "    <tr style=\"text-align: right;\">\n",
       "      <th></th>\n",
       "      <th>antecedents</th>\n",
       "      <th>consequents</th>\n",
       "      <th>support</th>\n",
       "      <th>confidence</th>\n",
       "      <th>lift</th>\n",
       "      <th>antecedent_len</th>\n",
       "    </tr>\n",
       "  </thead>\n",
       "  <tbody>\n",
       "    <tr>\n",
       "      <th>14</th>\n",
       "      <td>(native-country_ United-States)</td>\n",
       "      <td>(race_ White)</td>\n",
       "      <td>0.786862</td>\n",
       "      <td>0.878334</td>\n",
       "      <td>1.028165</td>\n",
       "      <td>1</td>\n",
       "    </tr>\n",
       "  </tbody>\n",
       "</table>\n",
       "</div>"
      ],
      "text/plain": [
       "                        antecedents    consequents   support  confidence  \\\n",
       "14  (native-country_ United-States)  (race_ White)  0.786862    0.878334   \n",
       "\n",
       "        lift  antecedent_len  \n",
       "14  1.028165               1  "
      ]
     },
     "execution_count": 24,
     "metadata": {},
     "output_type": "execute_result"
    }
   ],
   "source": [
    "rules_conf_1[(rules_conf_1['confidence'] > 0.75) ].sort_values(by=['confidence'], ascending=False)[['antecedents','consequents','support','confidence','lift','antecedent_len']].iloc[[49]]"
   ]
  },
  {
   "cell_type": "markdown",
   "metadata": {},
   "source": [
    "I find the above rule interesting because it has quite a high support and confidence, meaning that the data has a high percentage of White Americans."
   ]
  },
  {
   "cell_type": "code",
   "execution_count": 25,
   "metadata": {},
   "outputs": [
    {
     "data": {
      "text/html": [
       "<div>\n",
       "<style scoped>\n",
       "    .dataframe tbody tr th:only-of-type {\n",
       "        vertical-align: middle;\n",
       "    }\n",
       "\n",
       "    .dataframe tbody tr th {\n",
       "        vertical-align: top;\n",
       "    }\n",
       "\n",
       "    .dataframe thead th {\n",
       "        text-align: right;\n",
       "    }\n",
       "</style>\n",
       "<table border=\"1\" class=\"dataframe\">\n",
       "  <thead>\n",
       "    <tr style=\"text-align: right;\">\n",
       "      <th></th>\n",
       "      <th>antecedents</th>\n",
       "      <th>consequents</th>\n",
       "      <th>support</th>\n",
       "      <th>confidence</th>\n",
       "      <th>lift</th>\n",
       "      <th>antecedent_len</th>\n",
       "    </tr>\n",
       "  </thead>\n",
       "  <tbody>\n",
       "    <tr>\n",
       "      <th>11</th>\n",
       "      <td>(relationship_ Husband)</td>\n",
       "      <td>(sex_ Male)</td>\n",
       "      <td>0.405147</td>\n",
       "      <td>0.999924</td>\n",
       "      <td>1.494196</td>\n",
       "      <td>1</td>\n",
       "    </tr>\n",
       "    <tr>\n",
       "      <th>39</th>\n",
       "      <td>(marital-status_ Married-civ-spouse, relationship_ Husband)</td>\n",
       "      <td>(sex_ Male)</td>\n",
       "      <td>0.404871</td>\n",
       "      <td>0.999924</td>\n",
       "      <td>1.494196</td>\n",
       "      <td>2</td>\n",
       "    </tr>\n",
       "    <tr>\n",
       "      <th>5</th>\n",
       "      <td>(relationship_ Husband)</td>\n",
       "      <td>(marital-status_ Married-civ-spouse)</td>\n",
       "      <td>0.404902</td>\n",
       "      <td>0.999318</td>\n",
       "      <td>2.172729</td>\n",
       "      <td>1</td>\n",
       "    </tr>\n",
       "    <tr>\n",
       "      <th>42</th>\n",
       "      <td>(relationship_ Husband)</td>\n",
       "      <td>(marital-status_ Married-civ-spouse, sex_ Male)</td>\n",
       "      <td>0.404871</td>\n",
       "      <td>0.999242</td>\n",
       "      <td>2.442850</td>\n",
       "      <td>1</td>\n",
       "    </tr>\n",
       "  </tbody>\n",
       "</table>\n",
       "</div>"
      ],
      "text/plain": [
       "                                                    antecedents  \\\n",
       "11                                      (relationship_ Husband)   \n",
       "39  (marital-status_ Married-civ-spouse, relationship_ Husband)   \n",
       "5                                       (relationship_ Husband)   \n",
       "42                                      (relationship_ Husband)   \n",
       "\n",
       "                                        consequents   support  confidence  \\\n",
       "11                                      (sex_ Male)  0.405147    0.999924   \n",
       "39                                      (sex_ Male)  0.404871    0.999924   \n",
       "5              (marital-status_ Married-civ-spouse)  0.404902    0.999318   \n",
       "42  (marital-status_ Married-civ-spouse, sex_ Male)  0.404871    0.999242   \n",
       "\n",
       "        lift  antecedent_len  \n",
       "11  1.494196               1  \n",
       "39  1.494196               2  \n",
       "5   2.172729               1  \n",
       "42  2.442850               1  "
      ]
     },
     "execution_count": 25,
     "metadata": {},
     "output_type": "execute_result"
    }
   ],
   "source": [
    "rules_conf_1[(rules_conf_1['confidence'] > 0.75) ].sort_values(by=['confidence'], ascending=False)[['antecedents','consequents','support','confidence','lift','antecedent_len']].iloc[[0,1,4,7]]"
   ]
  },
  {
   "cell_type": "markdown",
   "metadata": {},
   "source": [
    "The above 4 rules are interesting in that they are the top rules ranked by confidence, but they are essentially facts with not much values if you are trying to gain useful information from the top rules. Also, notice how rule #40 and #43 are composed of same items but with different combinations in the antecedents and consequents. Interestingly #43 has a higher lift than that of #40. I think this is a good example of where rule A->B and B->A are considered different rules."
   ]
  },
  {
   "cell_type": "markdown",
   "metadata": {},
   "source": [
    "#### Rule Interestingness with Lift"
   ]
  },
  {
   "cell_type": "code",
   "execution_count": 26,
   "metadata": {},
   "outputs": [],
   "source": [
    "lift_threshold = 1.2\n",
    "\n",
    "rules_lift_1 = association_rules(frequent_itemsets_1, metric=\"lift\", min_threshold=lift_threshold)"
   ]
  },
  {
   "cell_type": "code",
   "execution_count": 27,
   "metadata": {},
   "outputs": [],
   "source": [
    "# Compute a column for antecedent length\n",
    "rules_lift_1[\"antecedent_len\"] = rules_lift_1[\"antecedents\"].apply(lambda x: len(x))"
   ]
  },
  {
   "cell_type": "code",
   "execution_count": 28,
   "metadata": {},
   "outputs": [
    {
     "data": {
      "application/vnd.jupyter.widget-view+json": {
       "model_id": "cf2298db8bbc4209bee188c8189ead7c",
       "version_major": 2,
       "version_minor": 0
      },
      "text/plain": [
       "interactive(children=(IntSlider(value=5, description='rows', max=38, min=5, readout=False), IntSlider(value=6,…"
      ]
     },
     "metadata": {},
     "output_type": "display_data"
    }
   ],
   "source": [
    "# A quick look at the top rules using lift as interestingness and ranked by lift\n",
    "freeze_header(num_rows=5, df=rules_lift_1[(rules_lift_1['lift'] > 0.85) ].sort_values(by=['lift'], ascending=False)[['antecedents','consequents','support','confidence','lift','antecedent_len']])"
   ]
  },
  {
   "cell_type": "code",
   "execution_count": 29,
   "metadata": {},
   "outputs": [
    {
     "data": {
      "text/html": [
       "<div>\n",
       "<style scoped>\n",
       "    .dataframe tbody tr th:only-of-type {\n",
       "        vertical-align: middle;\n",
       "    }\n",
       "\n",
       "    .dataframe tbody tr th {\n",
       "        vertical-align: top;\n",
       "    }\n",
       "\n",
       "    .dataframe thead th {\n",
       "        text-align: right;\n",
       "    }\n",
       "</style>\n",
       "<table border=\"1\" class=\"dataframe\">\n",
       "  <thead>\n",
       "    <tr style=\"text-align: right;\">\n",
       "      <th></th>\n",
       "      <th>antecedents</th>\n",
       "      <th>consequents</th>\n",
       "      <th>support</th>\n",
       "      <th>confidence</th>\n",
       "      <th>lift</th>\n",
       "      <th>antecedent_len</th>\n",
       "    </tr>\n",
       "  </thead>\n",
       "  <tbody>\n",
       "    <tr>\n",
       "      <th>4</th>\n",
       "      <td>(marital-status_ Never-married)</td>\n",
       "      <td>(&gt;50K, &lt;=50K._ &lt;=50K)</td>\n",
       "      <td>0.313012</td>\n",
       "      <td>0.954039</td>\n",
       "      <td>1.256653</td>\n",
       "      <td>1</td>\n",
       "    </tr>\n",
       "    <tr>\n",
       "      <th>5</th>\n",
       "      <td>(&gt;50K, &lt;=50K._ &lt;=50K)</td>\n",
       "      <td>(marital-status_ Never-married)</td>\n",
       "      <td>0.313012</td>\n",
       "      <td>0.412298</td>\n",
       "      <td>1.256653</td>\n",
       "      <td>1</td>\n",
       "    </tr>\n",
       "  </tbody>\n",
       "</table>\n",
       "</div>"
      ],
      "text/plain": [
       "                       antecedents                      consequents   support  \\\n",
       "4  (marital-status_ Never-married)            (>50K, <=50K._ <=50K)  0.313012   \n",
       "5            (>50K, <=50K._ <=50K)  (marital-status_ Never-married)  0.313012   \n",
       "\n",
       "   confidence      lift  antecedent_len  \n",
       "4    0.954039  1.256653               1  \n",
       "5    0.412298  1.256653               1  "
      ]
     },
     "execution_count": 29,
     "metadata": {},
     "output_type": "execute_result"
    }
   ],
   "source": [
    "rules_lift_1[(rules_lift_1['lift'] > 0.85) ].sort_values(by=['lift'], ascending=False)[['antecedents','consequents','support','confidence','lift','antecedent_len']].iloc[[-1,-2]]"
   ]
  },
  {
   "cell_type": "markdown",
   "metadata": {},
   "source": [
    "The above 2 rules are interetsing in that both points to the association between being never married to the income level. From the confidence level, we can see that, out of those who were never married, the majority were earning less than 50K; on the other hand, out of those earning less than 50K, only 41% were never married. This makes sense because a majority of the U.S. population earned less than 50K in 1996, whether married or unmarried."
   ]
  },
  {
   "cell_type": "code",
   "execution_count": 30,
   "metadata": {},
   "outputs": [
    {
     "data": {
      "text/html": [
       "<div>\n",
       "<style scoped>\n",
       "    .dataframe tbody tr th:only-of-type {\n",
       "        vertical-align: middle;\n",
       "    }\n",
       "\n",
       "    .dataframe tbody tr th {\n",
       "        vertical-align: top;\n",
       "    }\n",
       "\n",
       "    .dataframe thead th {\n",
       "        text-align: right;\n",
       "    }\n",
       "</style>\n",
       "<table border=\"1\" class=\"dataframe\">\n",
       "  <thead>\n",
       "    <tr style=\"text-align: right;\">\n",
       "      <th></th>\n",
       "      <th>antecedents</th>\n",
       "      <th>consequents</th>\n",
       "      <th>support</th>\n",
       "      <th>confidence</th>\n",
       "      <th>lift</th>\n",
       "      <th>antecedent_len</th>\n",
       "    </tr>\n",
       "  </thead>\n",
       "  <tbody>\n",
       "    <tr>\n",
       "      <th>33</th>\n",
       "      <td>(sex_ Male)</td>\n",
       "      <td>(race_ White, relationship_ Husband)</td>\n",
       "      <td>0.366666</td>\n",
       "      <td>0.547912</td>\n",
       "      <td>1.494184</td>\n",
       "      <td>1</td>\n",
       "    </tr>\n",
       "    <tr>\n",
       "      <th>30</th>\n",
       "      <td>(race_ White, relationship_ Husband)</td>\n",
       "      <td>(sex_ Male)</td>\n",
       "      <td>0.366666</td>\n",
       "      <td>0.999916</td>\n",
       "      <td>1.494184</td>\n",
       "      <td>2</td>\n",
       "    </tr>\n",
       "  </tbody>\n",
       "</table>\n",
       "</div>"
      ],
      "text/plain": [
       "                             antecedents  \\\n",
       "33                           (sex_ Male)   \n",
       "30  (race_ White, relationship_ Husband)   \n",
       "\n",
       "                             consequents   support  confidence      lift  \\\n",
       "33  (race_ White, relationship_ Husband)  0.366666    0.547912  1.494184   \n",
       "30                           (sex_ Male)  0.366666    0.999916  1.494184   \n",
       "\n",
       "    antecedent_len  \n",
       "33               1  \n",
       "30               2  "
      ]
     },
     "execution_count": 30,
     "metadata": {},
     "output_type": "execute_result"
    }
   ],
   "source": [
    "rules_lift_1[(rules_lift_1['lift'] > 0.85) ].sort_values(by=['lift'], ascending=False)[['antecedents','consequents','support','confidence','lift','antecedent_len']].iloc[[22,23]]"
   ]
  },
  {
   "cell_type": "markdown",
   "metadata": {},
   "source": [
    "These 2 rules are interesting for the same reason as the previous 2 rules. It's another good example where rule A->B and B->A are considered different because the implications behind the 2 statements are very different."
   ]
  },
  {
   "cell_type": "code",
   "execution_count": 31,
   "metadata": {},
   "outputs": [
    {
     "data": {
      "text/html": [
       "<div>\n",
       "<style scoped>\n",
       "    .dataframe tbody tr th:only-of-type {\n",
       "        vertical-align: middle;\n",
       "    }\n",
       "\n",
       "    .dataframe tbody tr th {\n",
       "        vertical-align: top;\n",
       "    }\n",
       "\n",
       "    .dataframe thead th {\n",
       "        text-align: right;\n",
       "    }\n",
       "</style>\n",
       "<table border=\"1\" class=\"dataframe\">\n",
       "  <thead>\n",
       "    <tr style=\"text-align: right;\">\n",
       "      <th></th>\n",
       "      <th>antecedents</th>\n",
       "      <th>consequents</th>\n",
       "      <th>support</th>\n",
       "      <th>confidence</th>\n",
       "      <th>lift</th>\n",
       "      <th>antecedent_len</th>\n",
       "    </tr>\n",
       "  </thead>\n",
       "  <tbody>\n",
       "    <tr>\n",
       "      <th>15</th>\n",
       "      <td>(relationship_ Husband)</td>\n",
       "      <td>(marital-status_ Married-civ-spouse, sex_ Male)</td>\n",
       "      <td>0.404871</td>\n",
       "      <td>0.999242</td>\n",
       "      <td>2.44285</td>\n",
       "      <td>1</td>\n",
       "    </tr>\n",
       "    <tr>\n",
       "      <th>14</th>\n",
       "      <td>(marital-status_ Married-civ-spouse, sex_ Male)</td>\n",
       "      <td>(relationship_ Husband)</td>\n",
       "      <td>0.404871</td>\n",
       "      <td>0.989789</td>\n",
       "      <td>2.44285</td>\n",
       "      <td>2</td>\n",
       "    </tr>\n",
       "  </tbody>\n",
       "</table>\n",
       "</div>"
      ],
      "text/plain": [
       "                                        antecedents  \\\n",
       "15                          (relationship_ Husband)   \n",
       "14  (marital-status_ Married-civ-spouse, sex_ Male)   \n",
       "\n",
       "                                        consequents   support  confidence  \\\n",
       "15  (marital-status_ Married-civ-spouse, sex_ Male)  0.404871    0.999242   \n",
       "14                          (relationship_ Husband)  0.404871    0.989789   \n",
       "\n",
       "       lift  antecedent_len  \n",
       "15  2.44285               1  \n",
       "14  2.44285               2  "
      ]
     },
     "execution_count": 31,
     "metadata": {},
     "output_type": "execute_result"
    }
   ],
   "source": [
    "rules_lift_1[(rules_lift_1['lift'] > 0.85) ].sort_values(by=['lift'], ascending=False)[['antecedents','consequents','support','confidence','lift','antecedent_len']].iloc[[0,1]]"
   ]
  },
  {
   "cell_type": "markdown",
   "metadata": {},
   "source": [
    "These 2 top rules are interesting in that they are almost identical in not only the components in the itemsets but also the support, confidence, and lift. Again, this is probably because they are rules of fact (i.e. by definition, a married male is called a husband, and a husband is a married male)."
   ]
  },
  {
   "cell_type": "markdown",
   "metadata": {},
   "source": [
    "### Rule Generation with Support = 0.6"
   ]
  },
  {
   "cell_type": "code",
   "execution_count": 32,
   "metadata": {},
   "outputs": [],
   "source": [
    "support_threshold = 0.6\n",
    "\n",
    "# Using support = 0.6\n",
    "frequent_itemsets_2 = apriori(df_adult_1hot, min_support=support_threshold, use_colnames=True, max_len=3)\n",
    "frequent_itemsets_2['length'] = frequent_itemsets_2['itemsets'].apply(lambda x: len(x))"
   ]
  },
  {
   "cell_type": "markdown",
   "metadata": {},
   "source": [
    "#### Rule Interestingness with Confidence"
   ]
  },
  {
   "cell_type": "code",
   "execution_count": 33,
   "metadata": {},
   "outputs": [],
   "source": [
    "confidence_threshold=0.7\n",
    "\n",
    "rules_conf_2 = association_rules(frequent_itemsets_2, metric=\"confidence\", min_threshold=confidence_threshold)\n",
    "#rules_conf.head()"
   ]
  },
  {
   "cell_type": "code",
   "execution_count": 34,
   "metadata": {},
   "outputs": [],
   "source": [
    "# Compute a column for antecedent length\n",
    "rules_conf_2[\"antecedent_len\"] = rules_conf_2[\"antecedents\"].apply(lambda x: len(x))"
   ]
  },
  {
   "cell_type": "code",
   "execution_count": 35,
   "metadata": {},
   "outputs": [
    {
     "data": {
      "application/vnd.jupyter.widget-view+json": {
       "model_id": "273730a719f04b33980e5ca3c5f28227",
       "version_major": 2,
       "version_minor": 0
      },
      "text/plain": [
       "interactive(children=(IntSlider(value=5, description='rows', max=6, min=5, readout=False), IntSlider(value=6, …"
      ]
     },
     "metadata": {},
     "output_type": "display_data"
    }
   ],
   "source": [
    "# A quick look at the top rules using confidence as interestingness and ranked by confidence\n",
    "freeze_header(num_rows=5, df=rules_conf_2[(rules_conf_2['confidence'] > 0.75) ].sort_values(by=['confidence'], ascending=False)[['antecedents','consequents','support','confidence','lift','antecedent_len']])"
   ]
  },
  {
   "cell_type": "code",
   "execution_count": 36,
   "metadata": {},
   "outputs": [],
   "source": [
    "lift_threshold = 0.5\n",
    "\n",
    "rules_lift_2 = association_rules(frequent_itemsets_2, metric=\"lift\", min_threshold=lift_threshold)"
   ]
  },
  {
   "cell_type": "code",
   "execution_count": 37,
   "metadata": {},
   "outputs": [],
   "source": [
    "# Compute a column for antecedent length\n",
    "rules_lift_2[\"antecedent_len\"] = rules_lift_2[\"antecedents\"].apply(lambda x: len(x))"
   ]
  },
  {
   "cell_type": "code",
   "execution_count": 38,
   "metadata": {},
   "outputs": [
    {
     "data": {
      "application/vnd.jupyter.widget-view+json": {
       "model_id": "e453ae7051a2442ba9222fe807b259e3",
       "version_major": 2,
       "version_minor": 0
      },
      "text/plain": [
       "interactive(children=(IntSlider(value=5, description='rows', max=8, min=5, readout=False), IntSlider(value=6, …"
      ]
     },
     "metadata": {},
     "output_type": "display_data"
    }
   ],
   "source": [
    "# A quick look at the top rules using lift as interestingness and ranked by lift\n",
    "freeze_header(num_rows=5, df=rules_lift_2.sort_values(by=['lift'], ascending=False)[['antecedents','consequents','support','confidence','lift','antecedent_len']])"
   ]
  },
  {
   "cell_type": "markdown",
   "metadata": {},
   "source": [
    "### Rule Comparison"
   ]
  },
  {
   "cell_type": "markdown",
   "metadata": {},
   "source": [
    "Top rules with support level = 0.3"
   ]
  },
  {
   "cell_type": "code",
   "execution_count": 39,
   "metadata": {},
   "outputs": [
    {
     "data": {
      "text/html": [
       "<div>\n",
       "<style scoped>\n",
       "    .dataframe tbody tr th:only-of-type {\n",
       "        vertical-align: middle;\n",
       "    }\n",
       "\n",
       "    .dataframe tbody tr th {\n",
       "        vertical-align: top;\n",
       "    }\n",
       "\n",
       "    .dataframe thead th {\n",
       "        text-align: right;\n",
       "    }\n",
       "</style>\n",
       "<table border=\"1\" class=\"dataframe\">\n",
       "  <thead>\n",
       "    <tr style=\"text-align: right;\">\n",
       "      <th></th>\n",
       "      <th>antecedents</th>\n",
       "      <th>consequents</th>\n",
       "      <th>support</th>\n",
       "      <th>confidence</th>\n",
       "      <th>lift</th>\n",
       "      <th>antecedent_len</th>\n",
       "    </tr>\n",
       "  </thead>\n",
       "  <tbody>\n",
       "    <tr>\n",
       "      <th>11</th>\n",
       "      <td>(relationship_ Husband)</td>\n",
       "      <td>(sex_ Male)</td>\n",
       "      <td>0.405147</td>\n",
       "      <td>0.999924</td>\n",
       "      <td>1.494196</td>\n",
       "      <td>1</td>\n",
       "    </tr>\n",
       "    <tr>\n",
       "      <th>39</th>\n",
       "      <td>(marital-status_ Married-civ-spouse, relationship_ Husband)</td>\n",
       "      <td>(sex_ Male)</td>\n",
       "      <td>0.404871</td>\n",
       "      <td>0.999924</td>\n",
       "      <td>1.494196</td>\n",
       "      <td>2</td>\n",
       "    </tr>\n",
       "    <tr>\n",
       "      <th>58</th>\n",
       "      <td>(race_ White, relationship_ Husband)</td>\n",
       "      <td>(sex_ Male)</td>\n",
       "      <td>0.366666</td>\n",
       "      <td>0.999916</td>\n",
       "      <td>1.494184</td>\n",
       "      <td>2</td>\n",
       "    </tr>\n",
       "    <tr>\n",
       "      <th>64</th>\n",
       "      <td>(native-country_ United-States, relationship_ Husband)</td>\n",
       "      <td>(sex_ Male)</td>\n",
       "      <td>0.364239</td>\n",
       "      <td>0.999916</td>\n",
       "      <td>1.494183</td>\n",
       "      <td>2</td>\n",
       "    </tr>\n",
       "    <tr>\n",
       "      <th>5</th>\n",
       "      <td>(relationship_ Husband)</td>\n",
       "      <td>(marital-status_ Married-civ-spouse)</td>\n",
       "      <td>0.404902</td>\n",
       "      <td>0.999318</td>\n",
       "      <td>2.172729</td>\n",
       "      <td>1</td>\n",
       "    </tr>\n",
       "  </tbody>\n",
       "</table>\n",
       "</div>"
      ],
      "text/plain": [
       "                                                    antecedents  \\\n",
       "11                                      (relationship_ Husband)   \n",
       "39  (marital-status_ Married-civ-spouse, relationship_ Husband)   \n",
       "58                         (race_ White, relationship_ Husband)   \n",
       "64       (native-country_ United-States, relationship_ Husband)   \n",
       "5                                       (relationship_ Husband)   \n",
       "\n",
       "                             consequents   support  confidence      lift  \\\n",
       "11                           (sex_ Male)  0.405147    0.999924  1.494196   \n",
       "39                           (sex_ Male)  0.404871    0.999924  1.494196   \n",
       "58                           (sex_ Male)  0.366666    0.999916  1.494184   \n",
       "64                           (sex_ Male)  0.364239    0.999916  1.494183   \n",
       "5   (marital-status_ Married-civ-spouse)  0.404902    0.999318  2.172729   \n",
       "\n",
       "    antecedent_len  \n",
       "11               1  \n",
       "39               2  \n",
       "58               2  \n",
       "64               2  \n",
       "5                1  "
      ]
     },
     "execution_count": 39,
     "metadata": {},
     "output_type": "execute_result"
    }
   ],
   "source": [
    "rules_conf_1.sort_values(by=['confidence'], ascending=False)[['antecedents','consequents','support','confidence','lift','antecedent_len']].head()"
   ]
  },
  {
   "cell_type": "code",
   "execution_count": 40,
   "metadata": {},
   "outputs": [
    {
     "data": {
      "text/html": [
       "<div>\n",
       "<style scoped>\n",
       "    .dataframe tbody tr th:only-of-type {\n",
       "        vertical-align: middle;\n",
       "    }\n",
       "\n",
       "    .dataframe tbody tr th {\n",
       "        vertical-align: top;\n",
       "    }\n",
       "\n",
       "    .dataframe thead th {\n",
       "        text-align: right;\n",
       "    }\n",
       "</style>\n",
       "<table border=\"1\" class=\"dataframe\">\n",
       "  <thead>\n",
       "    <tr style=\"text-align: right;\">\n",
       "      <th></th>\n",
       "      <th>antecedents</th>\n",
       "      <th>consequents</th>\n",
       "      <th>support</th>\n",
       "      <th>confidence</th>\n",
       "      <th>lift</th>\n",
       "      <th>antecedent_len</th>\n",
       "    </tr>\n",
       "  </thead>\n",
       "  <tbody>\n",
       "    <tr>\n",
       "      <th>15</th>\n",
       "      <td>(relationship_ Husband)</td>\n",
       "      <td>(marital-status_ Married-civ-spouse, sex_ Male)</td>\n",
       "      <td>0.404871</td>\n",
       "      <td>0.999242</td>\n",
       "      <td>2.442850</td>\n",
       "      <td>1</td>\n",
       "    </tr>\n",
       "    <tr>\n",
       "      <th>14</th>\n",
       "      <td>(marital-status_ Married-civ-spouse, sex_ Male)</td>\n",
       "      <td>(relationship_ Husband)</td>\n",
       "      <td>0.404871</td>\n",
       "      <td>0.989789</td>\n",
       "      <td>2.442850</td>\n",
       "      <td>2</td>\n",
       "    </tr>\n",
       "    <tr>\n",
       "      <th>8</th>\n",
       "      <td>(race_ White, marital-status_ Married-civ-spouse)</td>\n",
       "      <td>(relationship_ Husband)</td>\n",
       "      <td>0.366420</td>\n",
       "      <td>0.889709</td>\n",
       "      <td>2.195848</td>\n",
       "      <td>2</td>\n",
       "    </tr>\n",
       "    <tr>\n",
       "      <th>11</th>\n",
       "      <td>(relationship_ Husband)</td>\n",
       "      <td>(race_ White, marital-status_ Married-civ-spouse)</td>\n",
       "      <td>0.366420</td>\n",
       "      <td>0.904343</td>\n",
       "      <td>2.195848</td>\n",
       "      <td>1</td>\n",
       "    </tr>\n",
       "    <tr>\n",
       "      <th>21</th>\n",
       "      <td>(relationship_ Husband)</td>\n",
       "      <td>(native-country_ United-States, marital-status_ Married-civ-spouse)</td>\n",
       "      <td>0.363994</td>\n",
       "      <td>0.898355</td>\n",
       "      <td>2.188162</td>\n",
       "      <td>1</td>\n",
       "    </tr>\n",
       "  </tbody>\n",
       "</table>\n",
       "</div>"
      ],
      "text/plain": [
       "                                          antecedents  \\\n",
       "15                            (relationship_ Husband)   \n",
       "14    (marital-status_ Married-civ-spouse, sex_ Male)   \n",
       "8   (race_ White, marital-status_ Married-civ-spouse)   \n",
       "11                            (relationship_ Husband)   \n",
       "21                            (relationship_ Husband)   \n",
       "\n",
       "                                                            consequents  \\\n",
       "15                      (marital-status_ Married-civ-spouse, sex_ Male)   \n",
       "14                                              (relationship_ Husband)   \n",
       "8                                               (relationship_ Husband)   \n",
       "11                    (race_ White, marital-status_ Married-civ-spouse)   \n",
       "21  (native-country_ United-States, marital-status_ Married-civ-spouse)   \n",
       "\n",
       "     support  confidence      lift  antecedent_len  \n",
       "15  0.404871    0.999242  2.442850               1  \n",
       "14  0.404871    0.989789  2.442850               2  \n",
       "8   0.366420    0.889709  2.195848               2  \n",
       "11  0.366420    0.904343  2.195848               1  \n",
       "21  0.363994    0.898355  2.188162               1  "
      ]
     },
     "execution_count": 40,
     "metadata": {},
     "output_type": "execute_result"
    }
   ],
   "source": [
    "rules_lift_1.sort_values(by=['lift'], ascending=False)[['antecedents','consequents','support','confidence','lift','antecedent_len']].head()"
   ]
  },
  {
   "cell_type": "markdown",
   "metadata": {},
   "source": [
    "Top rules with support Level = 0.6"
   ]
  },
  {
   "cell_type": "code",
   "execution_count": 41,
   "metadata": {},
   "outputs": [
    {
     "data": {
      "text/html": [
       "<div>\n",
       "<style scoped>\n",
       "    .dataframe tbody tr th:only-of-type {\n",
       "        vertical-align: middle;\n",
       "    }\n",
       "\n",
       "    .dataframe tbody tr th {\n",
       "        vertical-align: top;\n",
       "    }\n",
       "\n",
       "    .dataframe thead th {\n",
       "        text-align: right;\n",
       "    }\n",
       "</style>\n",
       "<table border=\"1\" class=\"dataframe\">\n",
       "  <thead>\n",
       "    <tr style=\"text-align: right;\">\n",
       "      <th></th>\n",
       "      <th>antecedents</th>\n",
       "      <th>consequents</th>\n",
       "      <th>support</th>\n",
       "      <th>confidence</th>\n",
       "      <th>lift</th>\n",
       "      <th>antecedent_len</th>\n",
       "    </tr>\n",
       "  </thead>\n",
       "  <tbody>\n",
       "    <tr>\n",
       "      <th>2</th>\n",
       "      <td>(race_ White)</td>\n",
       "      <td>(native-country_ United-States)</td>\n",
       "      <td>0.786862</td>\n",
       "      <td>0.921089</td>\n",
       "      <td>1.028165</td>\n",
       "      <td>1</td>\n",
       "    </tr>\n",
       "    <tr>\n",
       "      <th>5</th>\n",
       "      <td>(&gt;50K, &lt;=50K._ &lt;=50K)</td>\n",
       "      <td>(native-country_ United-States)</td>\n",
       "      <td>0.675624</td>\n",
       "      <td>0.889927</td>\n",
       "      <td>0.993381</td>\n",
       "      <td>1</td>\n",
       "    </tr>\n",
       "    <tr>\n",
       "      <th>0</th>\n",
       "      <td>(workclass_ Private)</td>\n",
       "      <td>(native-country_ United-States)</td>\n",
       "      <td>0.618378</td>\n",
       "      <td>0.887161</td>\n",
       "      <td>0.990293</td>\n",
       "      <td>1</td>\n",
       "    </tr>\n",
       "    <tr>\n",
       "      <th>1</th>\n",
       "      <td>(native-country_ United-States)</td>\n",
       "      <td>(race_ White)</td>\n",
       "      <td>0.786862</td>\n",
       "      <td>0.878334</td>\n",
       "      <td>1.028165</td>\n",
       "      <td>1</td>\n",
       "    </tr>\n",
       "    <tr>\n",
       "      <th>3</th>\n",
       "      <td>(&gt;50K, &lt;=50K._ &lt;=50K)</td>\n",
       "      <td>(race_ White)</td>\n",
       "      <td>0.635699</td>\n",
       "      <td>0.837338</td>\n",
       "      <td>0.980176</td>\n",
       "      <td>1</td>\n",
       "    </tr>\n",
       "  </tbody>\n",
       "</table>\n",
       "</div>"
      ],
      "text/plain": [
       "                       antecedents                      consequents   support  \\\n",
       "2                    (race_ White)  (native-country_ United-States)  0.786862   \n",
       "5            (>50K, <=50K._ <=50K)  (native-country_ United-States)  0.675624   \n",
       "0             (workclass_ Private)  (native-country_ United-States)  0.618378   \n",
       "1  (native-country_ United-States)                    (race_ White)  0.786862   \n",
       "3            (>50K, <=50K._ <=50K)                    (race_ White)  0.635699   \n",
       "\n",
       "   confidence      lift  antecedent_len  \n",
       "2    0.921089  1.028165               1  \n",
       "5    0.889927  0.993381               1  \n",
       "0    0.887161  0.990293               1  \n",
       "1    0.878334  1.028165               1  \n",
       "3    0.837338  0.980176               1  "
      ]
     },
     "execution_count": 41,
     "metadata": {},
     "output_type": "execute_result"
    }
   ],
   "source": [
    "rules_conf_2.sort_values(by=['confidence'], ascending=False)[['antecedents','consequents','support','confidence','lift','antecedent_len']].head()"
   ]
  },
  {
   "cell_type": "code",
   "execution_count": 42,
   "metadata": {},
   "outputs": [
    {
     "data": {
      "text/html": [
       "<div>\n",
       "<style scoped>\n",
       "    .dataframe tbody tr th:only-of-type {\n",
       "        vertical-align: middle;\n",
       "    }\n",
       "\n",
       "    .dataframe tbody tr th {\n",
       "        vertical-align: top;\n",
       "    }\n",
       "\n",
       "    .dataframe thead th {\n",
       "        text-align: right;\n",
       "    }\n",
       "</style>\n",
       "<table border=\"1\" class=\"dataframe\">\n",
       "  <thead>\n",
       "    <tr style=\"text-align: right;\">\n",
       "      <th></th>\n",
       "      <th>antecedents</th>\n",
       "      <th>consequents</th>\n",
       "      <th>support</th>\n",
       "      <th>confidence</th>\n",
       "      <th>lift</th>\n",
       "      <th>antecedent_len</th>\n",
       "    </tr>\n",
       "  </thead>\n",
       "  <tbody>\n",
       "    <tr>\n",
       "      <th>2</th>\n",
       "      <td>(native-country_ United-States)</td>\n",
       "      <td>(race_ White)</td>\n",
       "      <td>0.786862</td>\n",
       "      <td>0.878334</td>\n",
       "      <td>1.028165</td>\n",
       "      <td>1</td>\n",
       "    </tr>\n",
       "    <tr>\n",
       "      <th>3</th>\n",
       "      <td>(race_ White)</td>\n",
       "      <td>(native-country_ United-States)</td>\n",
       "      <td>0.786862</td>\n",
       "      <td>0.921089</td>\n",
       "      <td>1.028165</td>\n",
       "      <td>1</td>\n",
       "    </tr>\n",
       "    <tr>\n",
       "      <th>6</th>\n",
       "      <td>(&gt;50K, &lt;=50K._ &lt;=50K)</td>\n",
       "      <td>(native-country_ United-States)</td>\n",
       "      <td>0.675624</td>\n",
       "      <td>0.889927</td>\n",
       "      <td>0.993381</td>\n",
       "      <td>1</td>\n",
       "    </tr>\n",
       "    <tr>\n",
       "      <th>7</th>\n",
       "      <td>(native-country_ United-States)</td>\n",
       "      <td>(&gt;50K, &lt;=50K._ &lt;=50K)</td>\n",
       "      <td>0.675624</td>\n",
       "      <td>0.754165</td>\n",
       "      <td>0.993381</td>\n",
       "      <td>1</td>\n",
       "    </tr>\n",
       "    <tr>\n",
       "      <th>0</th>\n",
       "      <td>(native-country_ United-States)</td>\n",
       "      <td>(workclass_ Private)</td>\n",
       "      <td>0.618378</td>\n",
       "      <td>0.690264</td>\n",
       "      <td>0.990293</td>\n",
       "      <td>1</td>\n",
       "    </tr>\n",
       "  </tbody>\n",
       "</table>\n",
       "</div>"
      ],
      "text/plain": [
       "                       antecedents                      consequents   support  \\\n",
       "2  (native-country_ United-States)                    (race_ White)  0.786862   \n",
       "3                    (race_ White)  (native-country_ United-States)  0.786862   \n",
       "6            (>50K, <=50K._ <=50K)  (native-country_ United-States)  0.675624   \n",
       "7  (native-country_ United-States)            (>50K, <=50K._ <=50K)  0.675624   \n",
       "0  (native-country_ United-States)             (workclass_ Private)  0.618378   \n",
       "\n",
       "   confidence      lift  antecedent_len  \n",
       "2    0.878334  1.028165               1  \n",
       "3    0.921089  1.028165               1  \n",
       "6    0.889927  0.993381               1  \n",
       "7    0.754165  0.993381               1  \n",
       "0    0.690264  0.990293               1  "
      ]
     },
     "execution_count": 42,
     "metadata": {},
     "output_type": "execute_result"
    }
   ],
   "source": [
    "rules_lift_2.sort_values(by=['lift'], ascending=False)[['antecedents','consequents','support','confidence','lift','antecedent_len']].head()"
   ]
  },
  {
   "cell_type": "markdown",
   "metadata": {},
   "source": [
    "The comparison above shows that, **at a low level of support (e.g. support = 0.3), the top rules using the two different interestingness measures can be very different**. Although they all have the value \"relationship_Husband\" in the itemsets, 4 of the top 5 rules using confidence as the interestingness measure have \"sex_Male\" as the consequents. The rules using lift seems more of a mix with \"relationship_Husband\" in antecedents and consequents. This might be because **when the support threshold is set to only 0.3, there's a bigger basket of itemsets that meets this criteria, so we would end up with more associations rules**.\n",
    "\n",
    "On the other hand, **when the level of support is higher (e.g. support = 0.6), 3 of the top 5 rules using different interestingness measures are the same**. My reasoning would be that **with support level at 0.6, only a limited number of itemsets can be found** (see the cell below). Thus, the association rules that can be generated are very limited as well, which leads to the high portion of intersection between the top rules using different interestingness metrics."
   ]
  },
  {
   "cell_type": "code",
   "execution_count": 43,
   "metadata": {},
   "outputs": [
    {
     "data": {
      "application/vnd.jupyter.widget-view+json": {
       "model_id": "db441220095245f387403cce0116dba8",
       "version_major": 2,
       "version_minor": 0
      },
      "text/plain": [
       "interactive(children=(IntSlider(value=8, description='rows', max=47, min=8, readout=False), IntSlider(value=3,…"
      ]
     },
     "metadata": {},
     "output_type": "display_data"
    }
   ],
   "source": [
    "# All frequent itemsets with minimum support threshold set to 0.3\n",
    "freeze_header(num_rows=8,df=frequent_itemsets_1)"
   ]
  },
  {
   "cell_type": "code",
   "execution_count": 44,
   "metadata": {},
   "outputs": [
    {
     "data": {
      "text/html": [
       "<div>\n",
       "<style scoped>\n",
       "    .dataframe tbody tr th:only-of-type {\n",
       "        vertical-align: middle;\n",
       "    }\n",
       "\n",
       "    .dataframe tbody tr th {\n",
       "        vertical-align: top;\n",
       "    }\n",
       "\n",
       "    .dataframe thead th {\n",
       "        text-align: right;\n",
       "    }\n",
       "</style>\n",
       "<table border=\"1\" class=\"dataframe\">\n",
       "  <thead>\n",
       "    <tr style=\"text-align: right;\">\n",
       "      <th></th>\n",
       "      <th>support</th>\n",
       "      <th>itemsets</th>\n",
       "      <th>length</th>\n",
       "    </tr>\n",
       "  </thead>\n",
       "  <tbody>\n",
       "    <tr>\n",
       "      <th>0</th>\n",
       "      <td>0.697030</td>\n",
       "      <td>(workclass_ Private)</td>\n",
       "      <td>1</td>\n",
       "    </tr>\n",
       "    <tr>\n",
       "      <th>1</th>\n",
       "      <td>0.854274</td>\n",
       "      <td>(race_ White)</td>\n",
       "      <td>1</td>\n",
       "    </tr>\n",
       "    <tr>\n",
       "      <th>2</th>\n",
       "      <td>0.669205</td>\n",
       "      <td>(sex_ Male)</td>\n",
       "      <td>1</td>\n",
       "    </tr>\n",
       "    <tr>\n",
       "      <th>3</th>\n",
       "      <td>0.895857</td>\n",
       "      <td>(native-country_ United-States)</td>\n",
       "      <td>1</td>\n",
       "    </tr>\n",
       "    <tr>\n",
       "      <th>4</th>\n",
       "      <td>0.759190</td>\n",
       "      <td>(&gt;50K, &lt;=50K._ &lt;=50K)</td>\n",
       "      <td>1</td>\n",
       "    </tr>\n",
       "    <tr>\n",
       "      <th>5</th>\n",
       "      <td>0.618378</td>\n",
       "      <td>(native-country_ United-States, workclass_ Private)</td>\n",
       "      <td>2</td>\n",
       "    </tr>\n",
       "    <tr>\n",
       "      <th>6</th>\n",
       "      <td>0.786862</td>\n",
       "      <td>(native-country_ United-States, race_ White)</td>\n",
       "      <td>2</td>\n",
       "    </tr>\n",
       "    <tr>\n",
       "      <th>7</th>\n",
       "      <td>0.635699</td>\n",
       "      <td>(&gt;50K, &lt;=50K._ &lt;=50K, race_ White)</td>\n",
       "      <td>2</td>\n",
       "    </tr>\n",
       "    <tr>\n",
       "      <th>8</th>\n",
       "      <td>0.675624</td>\n",
       "      <td>(&gt;50K, &lt;=50K._ &lt;=50K, native-country_ United-States)</td>\n",
       "      <td>2</td>\n",
       "    </tr>\n",
       "  </tbody>\n",
       "</table>\n",
       "</div>"
      ],
      "text/plain": [
       "    support                                              itemsets  length\n",
       "0  0.697030                                  (workclass_ Private)       1\n",
       "1  0.854274                                         (race_ White)       1\n",
       "2  0.669205                                           (sex_ Male)       1\n",
       "3  0.895857                       (native-country_ United-States)       1\n",
       "4  0.759190                                 (>50K, <=50K._ <=50K)       1\n",
       "5  0.618378   (native-country_ United-States, workclass_ Private)       2\n",
       "6  0.786862          (native-country_ United-States, race_ White)       2\n",
       "7  0.635699                    (>50K, <=50K._ <=50K, race_ White)       2\n",
       "8  0.675624  (>50K, <=50K._ <=50K, native-country_ United-States)       2"
      ]
     },
     "execution_count": 44,
     "metadata": {},
     "output_type": "execute_result"
    }
   ],
   "source": [
    "# All frequent itemsets with minimum support threshold set to 0.6\n",
    "frequent_itemsets_2"
   ]
  },
  {
   "cell_type": "code",
   "execution_count": null,
   "metadata": {},
   "outputs": [],
   "source": []
  }
 ],
 "metadata": {
  "kernelspec": {
   "display_name": "Python 3",
   "language": "python",
   "name": "python3"
  },
  "language_info": {
   "codemirror_mode": {
    "name": "ipython",
    "version": 3
   },
   "file_extension": ".py",
   "mimetype": "text/x-python",
   "name": "python",
   "nbconvert_exporter": "python",
   "pygments_lexer": "ipython3",
   "version": "3.8.3"
  }
 },
 "nbformat": 4,
 "nbformat_minor": 4
}
